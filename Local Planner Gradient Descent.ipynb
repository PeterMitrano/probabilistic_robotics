{
 "cells": [
  {
   "cell_type": "markdown",
   "metadata": {},
   "source": [
    "Let's say we have a two wheeled robot, and we want to find the control input which will traj a trajectory with as little error as possible, but also as quickly as possible."
   ]
  },
  {
   "cell_type": "code",
   "execution_count": 41,
   "metadata": {},
   "outputs": [],
   "source": [
    "import numpy as np\n",
    "import math\n",
    "import matplotlib.pyplot as plt\n",
    "from scipy import optimize, interpolate\n",
    "np.set_printoptions(precision=4, suppress=True)"
   ]
  },
  {
   "cell_type": "code",
   "execution_count": 42,
   "metadata": {},
   "outputs": [],
   "source": [
    "def R(theta):\n",
    "    return np.array([[np.cos(theta), -np.sin(theta)],\n",
    "                     [np.sin(theta), np.cos(theta)]])\n",
    "\n",
    "def fwd_kinematics(x, y, theta, trans_v, angular_v, dt=0.1):    \n",
    "    pos = np.array([[x], [y]])\n",
    "    rot = R(theta)\n",
    "    if abs(angular_v) < 1e-3:\n",
    "        new_pos = pos + rot * trans_v * dt\n",
    "    else:\n",
    "        icc = pos + np.dot(rot, np.array([[0], [trans_v/angular_v]]))\n",
    "        new_pos = np.dot(R(angular_v*dt), pos - icc) + icc\n",
    "    new_theta = theta + angular_v * dt;\n",
    "    return new_pos[0, 0], new_pos[1, 0], new_theta\n",
    "\n",
    "def plot_traj(x, y, theta, trans_v, angular_v, dt=0.1, N=100):\n",
    "    xs = np.ndarray(N)\n",
    "    ys = np.ndarray(N)\n",
    "    xs[0] = x\n",
    "    ys[0] = y\n",
    "    plt.figure(figsize=(6,6))\n",
    "    plt.scatter(x, y, s=200, marker='o')\n",
    "    for i in range(1, N):\n",
    "        x, y, theta = fwd_kinematics(x, y, theta, trans_v, angular_v, dt)\n",
    "        xs[i] = x\n",
    "        ys[i] = y\n",
    "    plt.scatter(xs, ys, marker='*', c='r')\n",
    "    plt.axis(\"equal\")"
   ]
  },
  {
   "cell_type": "code",
   "execution_count": 43,
   "metadata": {},
   "outputs": [],
   "source": [
    "# https://stackoverflow.com/questions/849211/shortest-distance-between-a-point-and-a-line-segment\n",
    "def dist(v, w, p):\n",
    "    l2 = ((v - w) ** 2).sum()\n",
    "    if l2 == 0.0:\n",
    "        return np.linalg.norm(p - v)\n",
    "    dott = np.dot(p - v, w - v)\n",
    "    t = max(0, min(1, dott / l2));\n",
    "    projection = v + t * (w - v);  # Projection falls on the segment\n",
    "    return np.linalg.norm(p - projection), projection\n",
    "\n",
    "def angle_diff(a, b):\n",
    "    diff = a - b\n",
    "    if diff > np.pi:\n",
    "        return diff - np.pi * 2\n",
    "    if diff < -np.pi:\n",
    "        return diff + np.pi * 2\n",
    "    return diff"
   ]
  },
  {
   "cell_type": "code",
   "execution_count": 44,
   "metadata": {},
   "outputs": [
    {
     "data": {
      "text/plain": [
       "(0.0026524966296954055, 0.9995975804187966, 0.028226827140682028)"
      ]
     },
     "execution_count": 44,
     "metadata": {},
     "output_type": "execute_result"
    }
   ],
   "source": [
    "def loss(x, y, theta, path, trans_v, angular_v, dt=0.1, plot=False):\n",
    "    min_dist_to_path = 1e9\n",
    "    new_x, new_y, new_theta = fwd_kinematics(x, y, theta, trans_v, angular_v, dt)\n",
    "    for i in range(len(path)-1):\n",
    "        p0 = path[i]\n",
    "        p1 = path[i+1]\n",
    "        dist_to_path, _ = dist(p0, p1, np.array([new_x, new_y]))\n",
    "        if dist_to_path < min_dist_to_path:\n",
    "            min_dist_to_path = dist_to_path\n",
    "            theta_of_path_segment_with_min_dist = math.atan2(p1[1]-p0[1], p1[0]-p0[0])\n",
    "    theta_err = abs(angle_diff(theta_of_path_segment_with_min_dist, new_theta))\n",
    "    \n",
    "    dist_to_goal = np.hypot(new_x - path[-1, 0], new_y - path[-1, 1])\n",
    "    \n",
    "    if plot:\n",
    "        plt.grid()\n",
    "        plt.scatter([p[0] for p in path], [p[1] for p in path], s=200)\n",
    "        arrow_len = max(0.025, abs(trans_v*dt))\n",
    "        plt.arrow(x, y, np.cos(theta)*arrow_len, np.sin(theta)*arrow_len)\n",
    "        plt.arrow(new_x, new_y, np.cos(new_theta)*arrow_len, np.sin(new_theta)*arrow_len)\n",
    "        plt.scatter([x, new_x], [y, new_y])\n",
    "        plt.axis(\"equal\")\n",
    "    theta_weight = 0.005\n",
    "    goal_weight = 0.1\n",
    "    return theta_weight*theta_err + min_dist_to_path + goal_weight*dist_to_goal, \\\n",
    "           theta_weight*theta_err, \\\n",
    "           min_dist_to_path, \\\n",
    "           goal_weight*dist_to_goal\n",
    "    \n",
    "    \n",
    "def guess_control(x, y, theta, path, v_max=0.15, w_max=1.5, dt=0.1, n_guesses=100):\n",
    "    def __loss__(params):\n",
    "        trans_v = params[0]\n",
    "        angular_v = params[1]\n",
    "        l, _, _, _ = loss(x, y, theta, path, trans_v, angular_v, dt)\n",
    "        # print(l)\n",
    "        return l\n",
    "    \n",
    "    us = np.random.uniform(low=[0, -w_max], high=[v_max, w_max], size=[n_guesses, 2])\n",
    "    min_l = 1e9\n",
    "    min_u = None\n",
    "    for u in us:\n",
    "        l, _, _, _ = loss(x, y, theta, path, u[0], u[1], dt)\n",
    "        if l < min_l:\n",
    "            min_l = l\n",
    "            min_u = u\n",
    "        \n",
    "    return min_u[0], min_u[1], min_l\n",
    "    \n",
    "    \n",
    "def optimize_control(x, y, theta, path, v_max=0.15, w_max=1.5, dt=0.1):\n",
    "    def __loss__(params):\n",
    "        trans_v = params[0]\n",
    "        angular_v = params[1]\n",
    "        l, _, _, _ = loss(x, y, theta, path, trans_v, angular_v, dt)\n",
    "        # print(l)\n",
    "        return l\n",
    "    \n",
    "    bounds =[(0, v_max), (-w_max, w_max)]\n",
    "    res = optimize.minimize(fun=__loss__, x0=np.array([v_max*0.9, 0]), bounds=bounds, method='L-BFGS-B')\n",
    "    \n",
    "    if res.success:\n",
    "        return res.x[0], res.x[1], res.fun\n",
    "    else:\n",
    "        print(res.x)\n",
    "        print(res.message)\n",
    "        return None"
   ]
  },
  {
   "cell_type": "code",
   "execution_count": 45,
   "metadata": {},
   "outputs": [
    {
     "data": {
      "image/png": "[encoded data removed]",
      "text/plain": [
       "<Figure size 720x720 with 1 Axes>"
      ]
     },
     "metadata": {},
     "output_type": "display_data"
    }
   ],
   "source": [
    "def follow_path(x, y, theta, path, N, dt=0.1):\n",
    "    xs = np.ndarray(N)\n",
    "    ys = np.ndarray(N)\n",
    "    xs[0] = x\n",
    "    ys[0] = y\n",
    "    plt.figure(figsize=(10,10))\n",
    "    plt.grid()\n",
    "    plt.scatter([p[0] for p in path], [p[1] for p in path], s=200)\n",
    "    plt.scatter(x, y, s=200, marker='o')\n",
    "    plt.arrow(x, y, np.cos(theta)*.005, np.sin(theta)*.005)\n",
    "    for i in range(1, N):\n",
    "        trans_v, angular_v, l = guess_control(x, y, theta, path, dt=dt)\n",
    "        new_x, new_y, new_theta = fwd_kinematics(x, y, theta, trans_v, angular_v, dt=dt)\n",
    "        xs[i] = new_x\n",
    "        ys[i] = new_y\n",
    "        arrow_len = max(0.005, abs(trans_v*dt/4))\n",
    "        x = new_x\n",
    "        y = new_y\n",
    "        theta = new_theta\n",
    "    plt.scatter(xs, ys, marker='*', c='r')\n",
    "    plt.plot(xs, ys)\n",
    "    plt.axis(\"equal\")\n",
    "    \n",
    "x = 0\n",
    "y = 0\n",
    "theta = 0\n",
    "path = np.array([[0, 0], [0, 1], [0, 2], [1,3], [1,4]]) * 0.05\n",
    "follow_path(x, y, theta, path, N = 70)"
   ]
  }
 ],
 "metadata": {
  "kernelspec": {
   "display_name": "Python 3",
   "language": "python",
   "name": "python3"
  },
  "language_info": {
   "codemirror_mode": {
    "name": "ipython",
    "version": 3
   },
   "file_extension": ".py",
   "mimetype": "text/x-python",
   "name": "python",
   "nbconvert_exporter": "python",
   "pygments_lexer": "ipython3",
   "version": "3.6.5"
  }
 },
 "nbformat": 4,
 "nbformat_minor": 2
}
